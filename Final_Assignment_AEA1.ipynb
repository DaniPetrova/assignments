{
 "cells": [
  {
   "cell_type": "markdown",
   "metadata": {},
   "source": [
    "# Python assignment\n",
    "\n",
    "The python assignment you can do either on your own or with one other student (i.e. max group size is 2 students).\n",
    "\n",
    "The first cell of your notebook, should contain a table with the names and ANRs of the group members, like so\n",
    "\n",
    "|Name|examnr.|\n",
    "|----|-------|\n",
    "|Daniela Petrova|u1263320|\n",
    "|Jan Willem Tempelaar|u1261325|\n",
    "\n",
    "\n",
    "\n",
    "See [the webpage](https://janboone.github.io/applied-economics/assignment3.html) for details of what we expect to see in this assignment.\n",
    "\n"
   ]
  },
  {
   "cell_type": "code",
   "execution_count": null,
   "metadata": {
    "collapsed": true
   },
   "outputs": [],
   "source": []
  }
 ],
 "metadata": {
  "kernelspec": {
   "display_name": "Python 2",
   "language": "python",
   "name": "python2"
  },
  "language_info": {
   "codemirror_mode": {
    "name": "ipython",
    "version": 2
   },
   "file_extension": ".py",
   "mimetype": "text/x-python",
   "name": "python",
   "nbconvert_exporter": "python",
   "pygments_lexer": "ipython2",
   "version": "2.7.13"
  }
 },
 "nbformat": 4,
 "nbformat_minor": 2
}

A cross-country comparison of trust in institutions and others for the period 2002-2014

Requirements:

Start with a clear and transparent question.
There are a lot of interesting economic questions for which you do not need programming to find the answer. However, as an important part of this course is programming in python, we want to see some programming. So choose a question where you can show off your programming skills!
Briefly motivate why this question is interesting.
Explain the method that you use to answer the question.
Give the answer that you find.
Mention the main assumptions that you need to get this answer.
When you use information, create a link to this information. The reader then only needs to click to find the relevant information.
If you use data, present graphs of the data.
If you use equations, use latex to make them easy to read.
Explain your code, the reader must be able to easily follow what you are doing.
Present a clear conclusion/answer to your question.
Programming is great to do sensitivity analysis, just do the same you did before, but now with different parameter values.
Include some discussion of what you find and elements on which you need additional information.
To increase readability, use internal links. E.g. when you refer to the conclusion, create a link to it so that the reader can quickly glance what you have done and go back to where she/he was reading. For this to work, you need to export the notebook to html. You do not have to do this, but it will impress us if you manage it.

